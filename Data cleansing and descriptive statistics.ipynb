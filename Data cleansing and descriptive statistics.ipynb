{
 "cells": [
  {
   "cell_type": "markdown",
   "metadata": {},
   "source": [
    "# Data cleansing and descriptive Statistics\n",
    "using Pandas, numpy, pyplot, Seaborn, etc."
   ]
  },
  {
   "cell_type": "code",
   "execution_count": 1,
   "metadata": {},
   "outputs": [
    {
     "name": "stderr",
     "output_type": "stream",
     "text": [
      "C:\\ProgramData\\Anaconda3\\lib\\site-packages\\statsmodels\\tools\\_testing.py:19: FutureWarning: pandas.util.testing is deprecated. Use the functions in the public API at pandas.testing instead.\n",
      "  import pandas.util.testing as tm\n"
     ]
    }
   ],
   "source": [
    "# Import modules\n",
    "import pandas as pd\n",
    "import numpy as np\n",
    "import seaborn as sns\n",
    "import matplotlib.pyplot as plt\n",
    "import statsmodels.formula.api as smf\n",
    "import scipy.stats as stats"
   ]
  },
  {
   "cell_type": "code",
   "execution_count": 2,
   "metadata": {},
   "outputs": [],
   "source": [
    "# Read the excel/csv file into a DataFrame\n",
    "df_data = 'inputs/Data.csv'\n",
    "df_clients_and_countries = 'inputs/Clients and countries.csv'"
   ]
  },
  {
   "cell_type": "code",
   "execution_count": 3,
   "metadata": {},
   "outputs": [
    {
     "data": {
      "text/html": [
       "<div>\n",
       "<style scoped>\n",
       "    .dataframe tbody tr th:only-of-type {\n",
       "        vertical-align: middle;\n",
       "    }\n",
       "\n",
       "    .dataframe tbody tr th {\n",
       "        vertical-align: top;\n",
       "    }\n",
       "\n",
       "    .dataframe thead th {\n",
       "        text-align: right;\n",
       "    }\n",
       "</style>\n",
       "<table border=\"1\" class=\"dataframe\">\n",
       "  <thead>\n",
       "    <tr style=\"text-align: right;\">\n",
       "      <th></th>\n",
       "      <th>customer_id</th>\n",
       "      <th>boxes_taken</th>\n",
       "      <th>activation_channel</th>\n",
       "      <th>state</th>\n",
       "      <th>score_count</th>\n",
       "      <th>score_freq</th>\n",
       "      <th>app_uses</th>\n",
       "      <th>app_store</th>\n",
       "    </tr>\n",
       "  </thead>\n",
       "  <tbody>\n",
       "    <tr>\n",
       "      <th>0</th>\n",
       "      <td>1</td>\n",
       "      <td>65</td>\n",
       "      <td>F</td>\n",
       "      <td>C</td>\n",
       "      <td>55.0</td>\n",
       "      <td>0.0</td>\n",
       "      <td>25</td>\n",
       "      <td>app2</td>\n",
       "    </tr>\n",
       "    <tr>\n",
       "      <th>1</th>\n",
       "      <td>2</td>\n",
       "      <td>20</td>\n",
       "      <td>C</td>\n",
       "      <td>N</td>\n",
       "      <td>45.0</td>\n",
       "      <td>0.0</td>\n",
       "      <td>105</td>\n",
       "      <td>app2</td>\n",
       "    </tr>\n",
       "    <tr>\n",
       "      <th>2</th>\n",
       "      <td>3</td>\n",
       "      <td>80</td>\n",
       "      <td>A</td>\n",
       "      <td>N</td>\n",
       "      <td>60.0</td>\n",
       "      <td>0.0</td>\n",
       "      <td>35</td>\n",
       "      <td>app2</td>\n",
       "    </tr>\n",
       "    <tr>\n",
       "      <th>3</th>\n",
       "      <td>4</td>\n",
       "      <td>120</td>\n",
       "      <td>A</td>\n",
       "      <td>L</td>\n",
       "      <td>60.0</td>\n",
       "      <td>0.0</td>\n",
       "      <td>20</td>\n",
       "      <td>app2</td>\n",
       "    </tr>\n",
       "    <tr>\n",
       "      <th>4</th>\n",
       "      <td>5</td>\n",
       "      <td>45</td>\n",
       "      <td>C</td>\n",
       "      <td>L</td>\n",
       "      <td>50.0</td>\n",
       "      <td>0.0</td>\n",
       "      <td>45</td>\n",
       "      <td>app2</td>\n",
       "    </tr>\n",
       "  </tbody>\n",
       "</table>\n",
       "</div>"
      ],
      "text/plain": [
       "   customer_id  boxes_taken activation_channel state  score_count  score_freq  \\\n",
       "0            1           65                  F     C         55.0         0.0   \n",
       "1            2           20                  C     N         45.0         0.0   \n",
       "2            3           80                  A     N         60.0         0.0   \n",
       "3            4          120                  A     L         60.0         0.0   \n",
       "4            5           45                  C     L         50.0         0.0   \n",
       "\n",
       "   app_uses app_store  \n",
       "0        25      app2  \n",
       "1       105      app2  \n",
       "2        35      app2  \n",
       "3        20      app2  \n",
       "4        45      app2  "
      ]
     },
     "execution_count": 3,
     "metadata": {},
     "output_type": "execute_result"
    }
   ],
   "source": [
    "# Import data - Data\n",
    "data_input = pd.read_csv(df_data)\n",
    "data_input.head() #print the top 5 rows to preview the raw input"
   ]
  },
  {
   "cell_type": "code",
   "execution_count": 4,
   "metadata": {},
   "outputs": [
    {
     "data": {
      "text/html": [
       "<div>\n",
       "<style scoped>\n",
       "    .dataframe tbody tr th:only-of-type {\n",
       "        vertical-align: middle;\n",
       "    }\n",
       "\n",
       "    .dataframe tbody tr th {\n",
       "        vertical-align: top;\n",
       "    }\n",
       "\n",
       "    .dataframe thead th {\n",
       "        text-align: right;\n",
       "    }\n",
       "</style>\n",
       "<table border=\"1\" class=\"dataframe\">\n",
       "  <thead>\n",
       "    <tr style=\"text-align: right;\">\n",
       "      <th></th>\n",
       "      <th>country</th>\n",
       "      <th>customer_id</th>\n",
       "    </tr>\n",
       "  </thead>\n",
       "  <tbody>\n",
       "    <tr>\n",
       "      <th>0</th>\n",
       "      <td>AU</td>\n",
       "      <td>1</td>\n",
       "    </tr>\n",
       "    <tr>\n",
       "      <th>1</th>\n",
       "      <td>AU</td>\n",
       "      <td>2</td>\n",
       "    </tr>\n",
       "    <tr>\n",
       "      <th>2</th>\n",
       "      <td>AU</td>\n",
       "      <td>3</td>\n",
       "    </tr>\n",
       "    <tr>\n",
       "      <th>3</th>\n",
       "      <td>AU</td>\n",
       "      <td>4</td>\n",
       "    </tr>\n",
       "    <tr>\n",
       "      <th>4</th>\n",
       "      <td>AU</td>\n",
       "      <td>5</td>\n",
       "    </tr>\n",
       "  </tbody>\n",
       "</table>\n",
       "</div>"
      ],
      "text/plain": [
       "  country  customer_id\n",
       "0      AU            1\n",
       "1      AU            2\n",
       "2      AU            3\n",
       "3      AU            4\n",
       "4      AU            5"
      ]
     },
     "execution_count": 4,
     "metadata": {},
     "output_type": "execute_result"
    }
   ],
   "source": [
    "# Import data - Country\n",
    "cl_ctry_input = pd.read_csv(df_clients_and_countries)\n",
    "\n",
    "cl_ctry_input.head() #print the top 5 rows to preview the raw input"
   ]
  },
  {
   "cell_type": "markdown",
   "metadata": {},
   "source": [
    "## Task 1 - Merge Datasets\n",
    "\n",
    "To merge the two datasets, we can use the merge function from pandas. However, before joining the datasets, we need to investigate the customer ID field from both datasets. It's important to have a good understanding whether the two datasets contain the same unique ID or not. Otherwise, there might be duplication or lost of information (depends on the join type) afer performing the merge task.\n",
    "\n",
    "Assumption: left join is used to join the Clients and countries.csv to the Data.csv"
   ]
  },
  {
   "cell_type": "code",
   "execution_count": 5,
   "metadata": {},
   "outputs": [
    {
     "name": "stdout",
     "output_type": "stream",
     "text": [
      "Quick investigation on customer ID\n",
      "\t- Data.csv: 10020 unique customer IDs\n",
      "\t- Clients and countries.csv: 10020 unique customer IDs.\n",
      "\t- There are 0 customer IDs that are in the Data.csv, but not in the Clients and countries.csv \n",
      "\t- There are 0 customer IDs that are in the Clients and countries.csv, but not in the Data.csv \n"
     ]
    }
   ],
   "source": [
    "# Investigate customer ID from both input files\n",
    "print(\"Quick investigation on customer ID\")\n",
    "print(f\"\\t- Data.csv: {len(data_input.customer_id.unique())} unique customer IDs\")\n",
    "print(f\"\\t- Clients and countries.csv: {len(cl_ctry_input.customer_id.unique())} unique customer IDs.\")\n",
    "\n",
    "# Customer ID that in the Data.csv, but not in the Client and countries.csv\n",
    "lst_1 = list(set(data_input.customer_id.unique()) - set(cl_ctry_input.customer_id.unique()))\n",
    "# Customer ID that in the Clients and countries.csv, but not in the Data.csv\n",
    "lst_2 = list(set(cl_ctry_input.customer_id.unique()) - set(data_input.customer_id.unique()))\n",
    "print(f\"\\t- There are {len(lst_1)} customer IDs that are in the Data.csv, but not in the Clients and countries.csv \")\n",
    "print(f\"\\t- There are {len(lst_2)} customer IDs that are in the Clients and countries.csv, but not in the Data.csv \")"
   ]
  },
  {
   "cell_type": "markdown",
   "metadata": {},
   "source": [
    "Summary: both input files contain the same customer IDs. Now we can proceed to merge the two datasets without risking duplications."
   ]
  },
  {
   "cell_type": "code",
   "execution_count": 6,
   "metadata": {},
   "outputs": [
    {
     "data": {
      "text/html": [
       "<div>\n",
       "<style scoped>\n",
       "    .dataframe tbody tr th:only-of-type {\n",
       "        vertical-align: middle;\n",
       "    }\n",
       "\n",
       "    .dataframe tbody tr th {\n",
       "        vertical-align: top;\n",
       "    }\n",
       "\n",
       "    .dataframe thead th {\n",
       "        text-align: right;\n",
       "    }\n",
       "</style>\n",
       "<table border=\"1\" class=\"dataframe\">\n",
       "  <thead>\n",
       "    <tr style=\"text-align: right;\">\n",
       "      <th></th>\n",
       "      <th>customer_id</th>\n",
       "      <th>boxes_taken</th>\n",
       "      <th>activation_channel</th>\n",
       "      <th>state</th>\n",
       "      <th>score_count</th>\n",
       "      <th>score_freq</th>\n",
       "      <th>app_uses</th>\n",
       "      <th>app_store</th>\n",
       "      <th>country</th>\n",
       "    </tr>\n",
       "  </thead>\n",
       "  <tbody>\n",
       "    <tr>\n",
       "      <th>0</th>\n",
       "      <td>1</td>\n",
       "      <td>65</td>\n",
       "      <td>F</td>\n",
       "      <td>C</td>\n",
       "      <td>55.0</td>\n",
       "      <td>0.0</td>\n",
       "      <td>25</td>\n",
       "      <td>app2</td>\n",
       "      <td>AU</td>\n",
       "    </tr>\n",
       "    <tr>\n",
       "      <th>1</th>\n",
       "      <td>2</td>\n",
       "      <td>20</td>\n",
       "      <td>C</td>\n",
       "      <td>N</td>\n",
       "      <td>45.0</td>\n",
       "      <td>0.0</td>\n",
       "      <td>105</td>\n",
       "      <td>app2</td>\n",
       "      <td>AU</td>\n",
       "    </tr>\n",
       "    <tr>\n",
       "      <th>2</th>\n",
       "      <td>3</td>\n",
       "      <td>80</td>\n",
       "      <td>A</td>\n",
       "      <td>N</td>\n",
       "      <td>60.0</td>\n",
       "      <td>0.0</td>\n",
       "      <td>35</td>\n",
       "      <td>app2</td>\n",
       "      <td>AU</td>\n",
       "    </tr>\n",
       "    <tr>\n",
       "      <th>3</th>\n",
       "      <td>4</td>\n",
       "      <td>120</td>\n",
       "      <td>A</td>\n",
       "      <td>L</td>\n",
       "      <td>60.0</td>\n",
       "      <td>0.0</td>\n",
       "      <td>20</td>\n",
       "      <td>app2</td>\n",
       "      <td>AU</td>\n",
       "    </tr>\n",
       "    <tr>\n",
       "      <th>4</th>\n",
       "      <td>5</td>\n",
       "      <td>45</td>\n",
       "      <td>C</td>\n",
       "      <td>L</td>\n",
       "      <td>50.0</td>\n",
       "      <td>0.0</td>\n",
       "      <td>45</td>\n",
       "      <td>app2</td>\n",
       "      <td>AU</td>\n",
       "    </tr>\n",
       "  </tbody>\n",
       "</table>\n",
       "</div>"
      ],
      "text/plain": [
       "   customer_id  boxes_taken activation_channel state  score_count  score_freq  \\\n",
       "0            1           65                  F     C         55.0         0.0   \n",
       "1            2           20                  C     N         45.0         0.0   \n",
       "2            3           80                  A     N         60.0         0.0   \n",
       "3            4          120                  A     L         60.0         0.0   \n",
       "4            5           45                  C     L         50.0         0.0   \n",
       "\n",
       "   app_uses app_store country  \n",
       "0        25      app2      AU  \n",
       "1       105      app2      AU  \n",
       "2        35      app2      AU  \n",
       "3        20      app2      AU  \n",
       "4        45      app2      AU  "
      ]
     },
     "execution_count": 6,
     "metadata": {},
     "output_type": "execute_result"
    }
   ],
   "source": [
    "# Left join Clients and countries.csv to Data.csv\n",
    "wrk_df = pd.merge(data_input, cl_ctry_input, how='left', on='customer_id', validate='one_to_one')\n",
    "\n",
    "wrk_df.head() #print the top 5 rows to preview the dataset after merge"
   ]
  },
  {
   "cell_type": "markdown",
   "metadata": {},
   "source": [
    "# Data cleansing | improving readability\n",
    "Assumption made regarding the mapping table"
   ]
  },
  {
   "cell_type": "code",
   "execution_count": 7,
   "metadata": {},
   "outputs": [],
   "source": [
    "def renaming_aus_states(i):\n",
    "    switcher={\n",
    "        'W': 'WA',  \n",
    "        'A': 'SA',  \n",
    "        'T': 'NT',\n",
    "        'N': 'NSW', \n",
    "        'L': 'QLD', \n",
    "        'S': 'TAS', \n",
    "        'C': 'VIC'  \n",
    "    }\n",
    "    return switcher.get(i,\"To be investigated\")\n",
    "\n",
    "wrk_df['state'] = wrk_df['state'].apply(lambda x: renaming_aus_states(x))"
   ]
  },
  {
   "cell_type": "code",
   "execution_count": 8,
   "metadata": {},
   "outputs": [
    {
     "data": {
      "text/html": [
       "<div>\n",
       "<style scoped>\n",
       "    .dataframe tbody tr th:only-of-type {\n",
       "        vertical-align: middle;\n",
       "    }\n",
       "\n",
       "    .dataframe tbody tr th {\n",
       "        vertical-align: top;\n",
       "    }\n",
       "\n",
       "    .dataframe thead th {\n",
       "        text-align: right;\n",
       "    }\n",
       "</style>\n",
       "<table border=\"1\" class=\"dataframe\">\n",
       "  <thead>\n",
       "    <tr style=\"text-align: right;\">\n",
       "      <th></th>\n",
       "      <th>customer_id</th>\n",
       "      <th>boxes_taken</th>\n",
       "      <th>activation_channel</th>\n",
       "      <th>state</th>\n",
       "      <th>score_count</th>\n",
       "      <th>score_freq</th>\n",
       "      <th>app_uses</th>\n",
       "      <th>app_store</th>\n",
       "      <th>country</th>\n",
       "    </tr>\n",
       "  </thead>\n",
       "  <tbody>\n",
       "    <tr>\n",
       "      <th>10015</th>\n",
       "      <td>10016</td>\n",
       "      <td>115</td>\n",
       "      <td>D</td>\n",
       "      <td>NSW</td>\n",
       "      <td>92.0</td>\n",
       "      <td>0.0</td>\n",
       "      <td>0</td>\n",
       "      <td>app3</td>\n",
       "      <td>NZ</td>\n",
       "    </tr>\n",
       "    <tr>\n",
       "      <th>10016</th>\n",
       "      <td>10017</td>\n",
       "      <td>51</td>\n",
       "      <td>D</td>\n",
       "      <td>QLD</td>\n",
       "      <td>66.0</td>\n",
       "      <td>0.0</td>\n",
       "      <td>0</td>\n",
       "      <td>app3</td>\n",
       "      <td>NZ</td>\n",
       "    </tr>\n",
       "    <tr>\n",
       "      <th>10017</th>\n",
       "      <td>10018</td>\n",
       "      <td>17</td>\n",
       "      <td>D</td>\n",
       "      <td>QLD</td>\n",
       "      <td>54.0</td>\n",
       "      <td>0.0</td>\n",
       "      <td>0</td>\n",
       "      <td>app3</td>\n",
       "      <td>NZ</td>\n",
       "    </tr>\n",
       "    <tr>\n",
       "      <th>10018</th>\n",
       "      <td>10019</td>\n",
       "      <td>33</td>\n",
       "      <td>D</td>\n",
       "      <td>QLD</td>\n",
       "      <td>59.0</td>\n",
       "      <td>0.0</td>\n",
       "      <td>0</td>\n",
       "      <td>app3</td>\n",
       "      <td>NZ</td>\n",
       "    </tr>\n",
       "    <tr>\n",
       "      <th>10019</th>\n",
       "      <td>10020</td>\n",
       "      <td>80</td>\n",
       "      <td>D</td>\n",
       "      <td>QLD</td>\n",
       "      <td>63.0</td>\n",
       "      <td>0.0</td>\n",
       "      <td>0</td>\n",
       "      <td>app3</td>\n",
       "      <td>NZ</td>\n",
       "    </tr>\n",
       "  </tbody>\n",
       "</table>\n",
       "</div>"
      ],
      "text/plain": [
       "       customer_id  boxes_taken activation_channel state  score_count  \\\n",
       "10015        10016          115                  D   NSW         92.0   \n",
       "10016        10017           51                  D   QLD         66.0   \n",
       "10017        10018           17                  D   QLD         54.0   \n",
       "10018        10019           33                  D   QLD         59.0   \n",
       "10019        10020           80                  D   QLD         63.0   \n",
       "\n",
       "       score_freq  app_uses app_store country  \n",
       "10015         0.0         0      app3      NZ  \n",
       "10016         0.0         0      app3      NZ  \n",
       "10017         0.0         0      app3      NZ  \n",
       "10018         0.0         0      app3      NZ  \n",
       "10019         0.0         0      app3      NZ  "
      ]
     },
     "execution_count": 8,
     "metadata": {},
     "output_type": "execute_result"
    }
   ],
   "source": [
    "wrk_df.tail(5)"
   ]
  },
  {
   "cell_type": "markdown",
   "metadata": {},
   "source": [
    "## Task 2 - Summary Statistics\n",
    "\n",
    "Because we are interested in the Australia related record, we need to firstly subset the merged dataset and only keep the rows that are related to Australia.\n",
    "\n",
    "Secondly, we need to investigate any missing values or outliers that exist in the dataset and treat them accordingly.\n",
    "\n",
    "Finally, for summary statistics, if it is numerical variable, we are more interested in measures such as min., max., variance, etc., and if it is categorical variavle, we would be more interest in how many different classes and the frequency."
   ]
  },
  {
   "cell_type": "code",
   "execution_count": 9,
   "metadata": {},
   "outputs": [],
   "source": [
    "# List of numerical variables\n",
    "num_var = ['boxes_taken', 'score_count', 'score_freq', 'app_uses']\n",
    "# List of categorical variables\n",
    "cat_var = ['activation_channel', 'state', 'app_store', 'country']"
   ]
  },
  {
   "cell_type": "code",
   "execution_count": 10,
   "metadata": {},
   "outputs": [
    {
     "name": "stdout",
     "output_type": "stream",
     "text": [
      "AU    9988\n",
      "NZ      23\n",
      "FR       3\n",
      "GB       2\n",
      "BE       1\n",
      "CZ       1\n",
      "US       1\n",
      "DE       1\n",
      "Name: country, dtype: int64\n"
     ]
    }
   ],
   "source": [
    "# No. cusomter from each country\n",
    "print(wrk_df.country.value_counts())"
   ]
  },
  {
   "cell_type": "code",
   "execution_count": 11,
   "metadata": {},
   "outputs": [
    {
     "name": "stdout",
     "output_type": "stream",
     "text": [
      "<class 'pandas.core.frame.DataFrame'>\n",
      "RangeIndex: 9988 entries, 0 to 9987\n",
      "Data columns (total 9 columns):\n",
      " #   Column              Non-Null Count  Dtype  \n",
      "---  ------              --------------  -----  \n",
      " 0   customer_id         9988 non-null   int64  \n",
      " 1   boxes_taken         9988 non-null   int64  \n",
      " 2   activation_channel  9911 non-null   object \n",
      " 3   state               9988 non-null   object \n",
      " 4   score_count         9980 non-null   float64\n",
      " 5   score_freq          9988 non-null   float64\n",
      " 6   app_uses            9988 non-null   int64  \n",
      " 7   app_store           8568 non-null   object \n",
      " 8   country             9988 non-null   object \n",
      "dtypes: float64(2), int64(3), object(4)\n",
      "memory usage: 702.4+ KB\n"
     ]
    }
   ],
   "source": [
    "# Subset AU related records\n",
    "au_df = wrk_df[wrk_df.country == 'AU'].copy().reset_index(drop=True)\n",
    "\n",
    "# Check missing value and data types\n",
    "au_df.info()"
   ]
  },
  {
   "cell_type": "markdown",
   "metadata": {},
   "source": [
    "There are missing values in 'activation_channel', 'state', 'score_count' and 'app_store'. There are various methods can be used to deal with missing values. For example, using mean or median. However, for the simplicity of this test, all rows that have missing values are removed."
   ]
  },
  {
   "cell_type": "code",
   "execution_count": 12,
   "metadata": {},
   "outputs": [
    {
     "name": "stdout",
     "output_type": "stream",
     "text": [
      "<class 'pandas.core.frame.DataFrame'>\n",
      "Int64Index: 8498 entries, 0 to 9987\n",
      "Data columns (total 9 columns):\n",
      " #   Column              Non-Null Count  Dtype  \n",
      "---  ------              --------------  -----  \n",
      " 0   customer_id         8498 non-null   int64  \n",
      " 1   boxes_taken         8498 non-null   int64  \n",
      " 2   activation_channel  8498 non-null   object \n",
      " 3   state               8498 non-null   object \n",
      " 4   score_count         8498 non-null   float64\n",
      " 5   score_freq          8498 non-null   float64\n",
      " 6   app_uses            8498 non-null   int64  \n",
      " 7   app_store           8498 non-null   object \n",
      " 8   country             8498 non-null   object \n",
      "dtypes: float64(2), int64(3), object(4)\n",
      "memory usage: 663.9+ KB\n"
     ]
    }
   ],
   "source": [
    "# Remove missing values\n",
    "au_df.dropna(inplace=True)\n",
    "\n",
    "au_df.info()\n",
    "## Lost about 15% of the sample."
   ]
  },
  {
   "cell_type": "code",
   "execution_count": 13,
   "metadata": {},
   "outputs": [
    {
     "data": {
      "text/html": [
       "<div>\n",
       "<style scoped>\n",
       "    .dataframe tbody tr th:only-of-type {\n",
       "        vertical-align: middle;\n",
       "    }\n",
       "\n",
       "    .dataframe tbody tr th {\n",
       "        vertical-align: top;\n",
       "    }\n",
       "\n",
       "    .dataframe thead th {\n",
       "        text-align: right;\n",
       "    }\n",
       "</style>\n",
       "<table border=\"1\" class=\"dataframe\">\n",
       "  <thead>\n",
       "    <tr style=\"text-align: right;\">\n",
       "      <th></th>\n",
       "      <th>count</th>\n",
       "      <th>mean</th>\n",
       "      <th>std</th>\n",
       "      <th>min</th>\n",
       "      <th>25%</th>\n",
       "      <th>50%</th>\n",
       "      <th>75%</th>\n",
       "      <th>max</th>\n",
       "    </tr>\n",
       "  </thead>\n",
       "  <tbody>\n",
       "    <tr>\n",
       "      <th>boxes_taken</th>\n",
       "      <td>8498.0</td>\n",
       "      <td>71.7539</td>\n",
       "      <td>64.2187</td>\n",
       "      <td>15.0</td>\n",
       "      <td>25.0</td>\n",
       "      <td>45.0</td>\n",
       "      <td>100.0000</td>\n",
       "      <td>265.0</td>\n",
       "    </tr>\n",
       "    <tr>\n",
       "      <th>score_count</th>\n",
       "      <td>8498.0</td>\n",
       "      <td>65.6878</td>\n",
       "      <td>814.4825</td>\n",
       "      <td>-45.0</td>\n",
       "      <td>45.0</td>\n",
       "      <td>55.0</td>\n",
       "      <td>65.0000</td>\n",
       "      <td>75000.0</td>\n",
       "    </tr>\n",
       "    <tr>\n",
       "      <th>score_freq</th>\n",
       "      <td>8498.0</td>\n",
       "      <td>0.0995</td>\n",
       "      <td>0.2036</td>\n",
       "      <td>0.0</td>\n",
       "      <td>0.0</td>\n",
       "      <td>0.0</td>\n",
       "      <td>0.0833</td>\n",
       "      <td>1.0</td>\n",
       "    </tr>\n",
       "    <tr>\n",
       "      <th>app_uses</th>\n",
       "      <td>8498.0</td>\n",
       "      <td>613.5673</td>\n",
       "      <td>54238.6718</td>\n",
       "      <td>0.0</td>\n",
       "      <td>15.0</td>\n",
       "      <td>20.0</td>\n",
       "      <td>30.0000</td>\n",
       "      <td>4999995.0</td>\n",
       "    </tr>\n",
       "  </tbody>\n",
       "</table>\n",
       "</div>"
      ],
      "text/plain": [
       "              count      mean         std   min   25%   50%       75%  \\\n",
       "boxes_taken  8498.0   71.7539     64.2187  15.0  25.0  45.0  100.0000   \n",
       "score_count  8498.0   65.6878    814.4825 -45.0  45.0  55.0   65.0000   \n",
       "score_freq   8498.0    0.0995      0.2036   0.0   0.0   0.0    0.0833   \n",
       "app_uses     8498.0  613.5673  54238.6718   0.0  15.0  20.0   30.0000   \n",
       "\n",
       "                   max  \n",
       "boxes_taken      265.0  \n",
       "score_count    75000.0  \n",
       "score_freq         1.0  \n",
       "app_uses     4999995.0  "
      ]
     },
     "execution_count": 13,
     "metadata": {},
     "output_type": "execute_result"
    }
   ],
   "source": [
    "# Summary statistics for numerical variables (AU subset)\n",
    "au_df[num_var].describe().T.round(4)"
   ]
  },
  {
   "cell_type": "markdown",
   "metadata": {},
   "source": [
    "Accoring to the table above, it seems there might be outliers in score_count and app_uses."
   ]
  },
  {
   "cell_type": "code",
   "execution_count": 14,
   "metadata": {},
   "outputs": [
    {
     "data": {
      "image/png": "[encoded data removed]",
      "text/plain": [
       "<Figure size 864x360 with 2 Axes>"
      ]
     },
     "metadata": {
      "needs_background": "light"
     },
     "output_type": "display_data"
    }
   ],
   "source": [
    "# Boxplot to visualise potential outliers\n",
    "fig, ax = plt.subplots(1, 2, figsize=(12,5))\n",
    "sns.boxplot(x=au_df.score_count, data=au_df,  ax=ax[0])\n",
    "sns.boxplot(x=au_df.app_uses, data=au_df,  ax=ax[1])\n",
    "plt.show()"
   ]
  },
  {
   "cell_type": "code",
   "execution_count": 15,
   "metadata": {},
   "outputs": [
    {
     "name": "stdout",
     "output_type": "stream",
     "text": [
      "The top 10 values in score_count:\n",
      "\t[75000.0, 4500.0, 140.0, 130.0, 125.0, 125.0, 120.0, 105.0, 100.0, 100.0]\n",
      "The bottom 10 values in score_count:\n",
      "\t[45.0, 45.0, 45.0, 45.0, 45.0, 45.0, 45.0, 45.0, 45.0, -45.0]\n"
     ]
    }
   ],
   "source": [
    "# score_count\n",
    "sc = sorted([*au_df.score_count], reverse=True)\n",
    "print(f\"The top 10 values in score_count:\\n\\t{sc[:10]}\")\n",
    "print(f\"The bottom 10 values in score_count:\\n\\t{sc[-10:]}\")"
   ]
  },
  {
   "cell_type": "markdown",
   "metadata": {},
   "source": [
    "Based on the sorted list for score count, there are two samples have values over 1,000 and one sample has a value that is negative. It seems they are outliers in the dataset and one of the possible causes is human error when inputing the data. Although further investigation is needed generally, for the purpose of this test, we will remove related rows."
   ]
  },
  {
   "cell_type": "code",
   "execution_count": 16,
   "metadata": {
    "scrolled": true
   },
   "outputs": [
    {
     "name": "stdout",
     "output_type": "stream",
     "text": [
      "The top 10 values in app_uses:\n",
      "\t[4999995, 465, 260, 255, 235, 215, 200, 195, 175, 170]\n",
      "The bottom 10 values in app_uses:\n",
      "\t[0, 0, 0, 0, 0, 0, 0, 0, 0, 0]\n"
     ]
    }
   ],
   "source": [
    "# app_uses\n",
    "au = sorted([*au_df.app_uses], reverse=True)\n",
    "print(f\"The top 10 values in app_uses:\\n\\t{au[:10]}\")\n",
    "print(f\"The bottom 10 values in app_uses:\\n\\t{au[-10:]}\")"
   ]
  },
  {
   "cell_type": "markdown",
   "metadata": {},
   "source": [
    "Based on the sorted list for app users, there is one sample has a value of 4,999,995. Similiarly, although further investigation is needed generally, for the purpose of this test, we will remove related rows."
   ]
  },
  {
   "cell_type": "code",
   "execution_count": 17,
   "metadata": {},
   "outputs": [
    {
     "data": {
      "image/png": "[encoded data removed]",
      "text/plain": [
       "<Figure size 864x360 with 2 Axes>"
      ]
     },
     "metadata": {
      "needs_background": "light"
     },
     "output_type": "display_data"
    }
   ],
   "source": [
    "# Remove outliers in score_count and app_uses\n",
    "au_df = au_df[(au_df.score_count < 1000) & (au_df.score_count >= 0) & (au_df.app_uses < 800)].copy().reset_index(drop=True)\n",
    "\n",
    "# Re-plot the box plot for the two variables to see the effect of removing the outliers\n",
    "fig, ax = plt.subplots(1, 2, figsize=(12,5))\n",
    "sns.boxplot(x=au_df.score_count, data=au_df,  ax=ax[0])\n",
    "sns.boxplot(x=au_df.app_uses, data=au_df,  ax=ax[1])\n",
    "plt.show()"
   ]
  },
  {
   "cell_type": "code",
   "execution_count": 18,
   "metadata": {},
   "outputs": [
    {
     "data": {
      "text/html": [
       "<div>\n",
       "<style scoped>\n",
       "    .dataframe tbody tr th:only-of-type {\n",
       "        vertical-align: middle;\n",
       "    }\n",
       "\n",
       "    .dataframe tbody tr th {\n",
       "        vertical-align: top;\n",
       "    }\n",
       "\n",
       "    .dataframe thead th {\n",
       "        text-align: right;\n",
       "    }\n",
       "</style>\n",
       "<table border=\"1\" class=\"dataframe\">\n",
       "  <thead>\n",
       "    <tr style=\"text-align: right;\">\n",
       "      <th></th>\n",
       "      <th>count</th>\n",
       "      <th>mean</th>\n",
       "      <th>std</th>\n",
       "      <th>min</th>\n",
       "      <th>25%</th>\n",
       "      <th>50%</th>\n",
       "      <th>75%</th>\n",
       "      <th>max</th>\n",
       "    </tr>\n",
       "  </thead>\n",
       "  <tbody>\n",
       "    <tr>\n",
       "      <th>boxes_taken</th>\n",
       "      <td>8494.0</td>\n",
       "      <td>71.7724</td>\n",
       "      <td>64.2273</td>\n",
       "      <td>15.0</td>\n",
       "      <td>25.0</td>\n",
       "      <td>45.0</td>\n",
       "      <td>100.0000</td>\n",
       "      <td>265.0</td>\n",
       "    </tr>\n",
       "    <tr>\n",
       "      <th>score_count</th>\n",
       "      <td>8494.0</td>\n",
       "      <td>56.3592</td>\n",
       "      <td>11.8277</td>\n",
       "      <td>45.0</td>\n",
       "      <td>45.0</td>\n",
       "      <td>55.0</td>\n",
       "      <td>65.0000</td>\n",
       "      <td>140.0</td>\n",
       "    </tr>\n",
       "    <tr>\n",
       "      <th>score_freq</th>\n",
       "      <td>8494.0</td>\n",
       "      <td>0.0995</td>\n",
       "      <td>0.2036</td>\n",
       "      <td>0.0</td>\n",
       "      <td>0.0</td>\n",
       "      <td>0.0</td>\n",
       "      <td>0.0833</td>\n",
       "      <td>1.0</td>\n",
       "    </tr>\n",
       "    <tr>\n",
       "      <th>app_uses</th>\n",
       "      <td>8494.0</td>\n",
       "      <td>25.2007</td>\n",
       "      <td>19.4697</td>\n",
       "      <td>0.0</td>\n",
       "      <td>15.0</td>\n",
       "      <td>20.0</td>\n",
       "      <td>30.0000</td>\n",
       "      <td>465.0</td>\n",
       "    </tr>\n",
       "  </tbody>\n",
       "</table>\n",
       "</div>"
      ],
      "text/plain": [
       "              count     mean      std   min   25%   50%       75%    max\n",
       "boxes_taken  8494.0  71.7724  64.2273  15.0  25.0  45.0  100.0000  265.0\n",
       "score_count  8494.0  56.3592  11.8277  45.0  45.0  55.0   65.0000  140.0\n",
       "score_freq   8494.0   0.0995   0.2036   0.0   0.0   0.0    0.0833    1.0\n",
       "app_uses     8494.0  25.2007  19.4697   0.0  15.0  20.0   30.0000  465.0"
      ]
     },
     "execution_count": 18,
     "metadata": {},
     "output_type": "execute_result"
    }
   ],
   "source": [
    "# Summary statistics for numerical variables (AU subset) - after removing outliers\n",
    "au_df[num_var].describe().T.round(4)"
   ]
  },
  {
   "cell_type": "code",
   "execution_count": 19,
   "metadata": {},
   "outputs": [
    {
     "data": {
      "text/html": [
       "<div>\n",
       "<style scoped>\n",
       "    .dataframe tbody tr th:only-of-type {\n",
       "        vertical-align: middle;\n",
       "    }\n",
       "\n",
       "    .dataframe tbody tr th {\n",
       "        vertical-align: top;\n",
       "    }\n",
       "\n",
       "    .dataframe thead th {\n",
       "        text-align: right;\n",
       "    }\n",
       "</style>\n",
       "<table border=\"1\" class=\"dataframe\">\n",
       "  <thead>\n",
       "    <tr style=\"text-align: right;\">\n",
       "      <th></th>\n",
       "      <th>count</th>\n",
       "      <th>unique</th>\n",
       "      <th>top</th>\n",
       "      <th>freq</th>\n",
       "    </tr>\n",
       "  </thead>\n",
       "  <tbody>\n",
       "    <tr>\n",
       "      <th>activation_channel</th>\n",
       "      <td>8494</td>\n",
       "      <td>7</td>\n",
       "      <td>C</td>\n",
       "      <td>3305</td>\n",
       "    </tr>\n",
       "    <tr>\n",
       "      <th>state</th>\n",
       "      <td>8494</td>\n",
       "      <td>8</td>\n",
       "      <td>NSW</td>\n",
       "      <td>2224</td>\n",
       "    </tr>\n",
       "    <tr>\n",
       "      <th>app_store</th>\n",
       "      <td>8494</td>\n",
       "      <td>2</td>\n",
       "      <td>app2</td>\n",
       "      <td>6646</td>\n",
       "    </tr>\n",
       "    <tr>\n",
       "      <th>country</th>\n",
       "      <td>8494</td>\n",
       "      <td>1</td>\n",
       "      <td>AU</td>\n",
       "      <td>8494</td>\n",
       "    </tr>\n",
       "  </tbody>\n",
       "</table>\n",
       "</div>"
      ],
      "text/plain": [
       "                   count unique   top  freq\n",
       "activation_channel  8494      7     C  3305\n",
       "state               8494      8   NSW  2224\n",
       "app_store           8494      2  app2  6646\n",
       "country             8494      1    AU  8494"
      ]
     },
     "execution_count": 19,
     "metadata": {},
     "output_type": "execute_result"
    }
   ],
   "source": [
    "# Summary statistics for categorical variables (AU subset)\n",
    "au_df[cat_var].describe().T"
   ]
  },
  {
   "cell_type": "code",
   "execution_count": 20,
   "metadata": {},
   "outputs": [
    {
     "name": "stdout",
     "output_type": "stream",
     "text": [
      "activation_channel\n",
      "C                     3305\n",
      "F                     1442\n",
      "A                     1401\n",
      "D                      868\n",
      "B                      739\n",
      "E                      438\n",
      "G                      301\n",
      "dtype: int64\n",
      "=========================\n",
      "state             \n",
      "NSW                   2224\n",
      "QLD                   2182\n",
      "VIC                   1891\n",
      "WA                    1271\n",
      "TAS                    522\n",
      "NT                     213\n",
      "SA                     186\n",
      "To be investigated       5\n",
      "dtype: int64\n",
      "=========================\n",
      "app_store\n",
      "app2         6646\n",
      "app1         1848\n",
      "dtype: int64\n",
      "=========================\n",
      "country\n",
      "AU         8494\n",
      "dtype: int64\n",
      "=========================\n"
     ]
    }
   ],
   "source": [
    "# A more detailed view on each categorical variable\n",
    "for i in cat_var:\n",
    "    print(au_df[[i]].value_counts())\n",
    "    print(\"=========================\")"
   ]
  },
  {
   "cell_type": "markdown",
   "metadata": {},
   "source": [
    "## Task 3 - Product Count Distribution "
   ]
  },
  {
   "cell_type": "code",
   "execution_count": 21,
   "metadata": {},
   "outputs": [
    {
     "data": {
      "image/png": "[encoded data removed]",
      "text/plain": [
       "<Figure size 432x288 with 1 Axes>"
      ]
     },
     "metadata": {
      "needs_background": "light"
     },
     "output_type": "display_data"
    }
   ],
   "source": [
    "# Distribution/Histogram plot for product count\n",
    "sns.distplot(au_df.boxes_taken, kde=True)\n",
    "plt.xlabel(\"Product count\")\n",
    "plt.title(\"Australia Product Count Distribution\")\n",
    "plt.show()"
   ]
  },
  {
   "cell_type": "code",
   "execution_count": 22,
   "metadata": {},
   "outputs": [
    {
     "data": {
      "image/png": "[encoded data removed]",
      "text/plain": [
       "<Figure size 432x288 with 1 Axes>"
      ]
     },
     "metadata": {
      "needs_background": "light"
     },
     "output_type": "display_data"
    }
   ],
   "source": [
    "# Box plot for boxes taken\n",
    "sns.boxplot(x=au_df.boxes_taken, data=au_df)\n",
    "plt.show()"
   ]
  },
  {
   "cell_type": "code",
   "execution_count": 23,
   "metadata": {},
   "outputs": [
    {
     "name": "stdout",
     "output_type": "stream",
     "text": [
      "The skewness is 1.3308\n"
     ]
    }
   ],
   "source": [
    "# Skewness\n",
    "print(f\"The skewness is {round(stats.skew(au_df.boxes_taken),4)}\")"
   ]
  },
  {
   "cell_type": "markdown",
   "metadata": {},
   "source": [
    "Based on the plots above, the product count in Australia is approximately following an exponential distrubution, and it is positively skewed."
   ]
  },
  {
   "cell_type": "markdown",
   "metadata": {},
   "source": [
    "## Task 4 - Exploratory Data Analysis\n",
    "\n",
    "To study the impact of various continuous numerical variables on the product count, we can use the correlation matrix which indicates the correlation between the variables.\n",
    "\n",
    "In addition, we need to perform a hypothesis test on the two sample mean in order to conclude whehter there is a statistical significant difference in the average product count between the two app user groups."
   ]
  },
  {
   "cell_type": "code",
   "execution_count": 24,
   "metadata": {},
   "outputs": [
    {
     "data": {
      "image/png": "[encoded data removed]",
      "text/plain": [
       "<Figure size 432x288 with 2 Axes>"
      ]
     },
     "metadata": {
      "needs_background": "light"
     },
     "output_type": "display_data"
    }
   ],
   "source": [
    "#Correlation Matrix\n",
    "sns.heatmap(au_df[num_var].corr(), vmin=-0.2, vmax=0.2, annot=True, cmap=\"coolwarm\")\n",
    "plt.title('Correlation matrix')\n",
    "plt.show()"
   ]
  },
  {
   "cell_type": "markdown",
   "metadata": {},
   "source": [
    "To understand which continuous variable has the highest impact on product count, we need to study their correlation. Based on the correlation matrix above, \"app_uses\" has the highest correlation with \"boxes taken\", which is -0.15. It indicates a negative correlation between boxes_taken and app_uses."
   ]
  },
  {
   "cell_type": "code",
   "execution_count": 25,
   "metadata": {},
   "outputs": [
    {
     "data": {
      "image/png": "[encoded data removed]",
      "text/plain": [
       "<Figure size 432x288 with 1 Axes>"
      ]
     },
     "metadata": {
      "needs_background": "light"
     },
     "output_type": "display_data"
    }
   ],
   "source": [
    "# Using box plot to analyse categorical variable \"app_store\"\n",
    "sns.boxplot(x='app_store', y='boxes_taken', data=au_df, palette='Blues', order=['app1', 'app2'])\n",
    "plt.xlabel(\"App store\")\n",
    "plt.ylabel(\"Product count\")\n",
    "plt.title(\"Box Plot for App Store\")\n",
    "plt.show()"
   ]
  },
  {
   "cell_type": "markdown",
   "metadata": {},
   "source": [
    "To understand whether customers with a specific app store take more products or not, we need to perform a hypothesis test\n",
    "\n",
    "Notation:\n",
    "- $\\mu_1$: the mean of product count for app store 1\n",
    "- $\\mu_2$: the mean of product count for app store 2\n",
    "\n",
    "$H_0: \\mu_1 \\geq \\mu_2$\n",
    "\n",
    "$H_1: \\mu_1 < \\mu_2$"
   ]
  },
  {
   "cell_type": "markdown",
   "metadata": {},
   "source": [
    "The first thing is to test whether the two groups have equal variance using F-test."
   ]
  },
  {
   "cell_type": "code",
   "execution_count": 26,
   "metadata": {},
   "outputs": [
    {
     "name": "stdout",
     "output_type": "stream",
     "text": [
      "Variance for app store 1: 3778.8227\n",
      "Variance for app store 2: 4212.0008\n",
      "Variance ratio (app2/app1) is: 1.1146\n",
      "The p-value for the F-test is 0.9984\n",
      "Accept the null hypothesis, and Var(app1) is equal to Var(app2)\n"
     ]
    }
   ],
   "source": [
    "# Product count from app store 1\n",
    "app_1 = au_df[au_df.app_store =='app1']['boxes_taken'].reset_index(drop=True)\n",
    "# Product count from app store 2\n",
    "app_2 = au_df[au_df.app_store =='app2']['boxes_taken'].reset_index(drop=True)\n",
    "\n",
    "# First is to test whehter the two groups have equal variances\n",
    "print(f\"Variance for app store 1: {round(np.var(app_1), 4)}\")\n",
    "print(f\"Variance for app store 2: {round(np.var(app_2), 4)}\")\n",
    "print(f\"Variance ratio (app2/app1) is: {round(np.var(app_2)/np.var(app_1), 4)}\")\n",
    "\n",
    "# F-test whether the two groups have equal variance\n",
    "alpha = 0.05 #signigicant level\n",
    "F = np.var(app_2)/np.var(app_1)\n",
    "p_value = stats.f.cdf(F, len(app_1)-1, len(app_2)-1)\n",
    "print(f'The p-value for the F-test is {round(p_value, 4)}')\n",
    "if p_value < alpha:\n",
    "    print(\"Reject the null hypothesis, and Var(app1) not equal to Var(app2)\")\n",
    "else:\n",
    "    print(\"Accept the null hypothesis, and Var(app1) is equal to Var(app2)\")"
   ]
  },
  {
   "cell_type": "markdown",
   "metadata": {},
   "source": [
    "One of the assumptions for two sampl equal variance test is the variables are normally distrubuted. Becasue the sample size in the two groups are large enough, we can say that central limit theorem holds and we can assume that the variabels normal distrubuted."
   ]
  },
  {
   "cell_type": "code",
   "execution_count": 27,
   "metadata": {},
   "outputs": [
    {
     "name": "stdout",
     "output_type": "stream",
     "text": [
      "There are 1848 samples in app1 and 6646 samples in app2\n"
     ]
    }
   ],
   "source": [
    "# Sample size of the 2 groups\n",
    "print(f\"There are {len(app_1)} samples in app1 and {len(app_2)} samples in app2\")"
   ]
  },
  {
   "cell_type": "code",
   "execution_count": 28,
   "metadata": {},
   "outputs": [
    {
     "name": "stdout",
     "output_type": "stream",
     "text": [
      "Ttest_indResult(statistic=-3.774193760105849, pvalue=0.000161619036392275)\n",
      "The p-value is 0.0001\n",
      "Reject the null hypothesis, and mean(app1) lesser than mean(app2)\n"
     ]
    }
   ],
   "source": [
    "# Use the stats package to perform T-test for the means of two samples\n",
    "t_test = stats.ttest_ind(a=app_1, b=app_2, equal_var=True)\n",
    "print(t_test)\n",
    "\n",
    "alpha = 0.05\n",
    "if np.mean(app_1) < np.mean(app_2):\n",
    "    pval = t_test.pvalue/2.\n",
    "else:\n",
    "    pval = 1 - t_test.pvalue/2\n",
    "\n",
    "print(f'The p-value is {round(pval,4)}')\n",
    "\n",
    "if pval < alpha:\n",
    "    print(\"Reject the null hypothesis, and mean(app1) lesser than mean(app2)\")\n",
    "else:\n",
    "    print(\"Accept the null hypothesis, and mean(app1) is greater than or equal to mean(app2)\")"
   ]
  },
  {
   "cell_type": "markdown",
   "metadata": {},
   "source": [
    "Setting the significant level at 0.05, the p-value from the one-tail two-sample equal variance test is smaller than the significant level. Therefore, we reject null hypothesis and conclude that average product counts from app1 user groups is statistically significanly smaller than the app2 user groups."
   ]
  },
  {
   "cell_type": "markdown",
   "metadata": {},
   "source": [
    "## Task 5 - Channel Analysis\n",
    "\n",
    "Assumption: variable 'app_uses' measures the time each custoemr spent on the app (measured in hours)"
   ]
  },
  {
   "cell_type": "markdown",
   "metadata": {},
   "source": [
    "To study which sales channel is the most efficient, we need to create a metrics to measure efficiency, which is\n",
    "\n",
    "$\\frac{Number \\quad of \\quad boxes \\quad ordered}{Total \\quad time \\quad spent}$"
   ]
  },
  {
   "cell_type": "code",
   "execution_count": 29,
   "metadata": {},
   "outputs": [
    {
     "data": {
      "text/html": [
       "<div>\n",
       "<style scoped>\n",
       "    .dataframe tbody tr th:only-of-type {\n",
       "        vertical-align: middle;\n",
       "    }\n",
       "\n",
       "    .dataframe tbody tr th {\n",
       "        vertical-align: top;\n",
       "    }\n",
       "\n",
       "    .dataframe thead th {\n",
       "        text-align: right;\n",
       "    }\n",
       "</style>\n",
       "<table border=\"1\" class=\"dataframe\">\n",
       "  <thead>\n",
       "    <tr style=\"text-align: right;\">\n",
       "      <th></th>\n",
       "      <th></th>\n",
       "      <th>boxes_taken</th>\n",
       "      <th>app_uses</th>\n",
       "      <th>efficiency</th>\n",
       "    </tr>\n",
       "    <tr>\n",
       "      <th>activation_channel</th>\n",
       "      <th>app_store</th>\n",
       "      <th></th>\n",
       "      <th></th>\n",
       "      <th></th>\n",
       "    </tr>\n",
       "  </thead>\n",
       "  <tbody>\n",
       "    <tr>\n",
       "      <th rowspan=\"2\" valign=\"top\">A</th>\n",
       "      <th>app1</th>\n",
       "      <td>22865</td>\n",
       "      <td>7855</td>\n",
       "      <td>2.910885</td>\n",
       "    </tr>\n",
       "    <tr>\n",
       "      <th>app2</th>\n",
       "      <td>76540</td>\n",
       "      <td>29325</td>\n",
       "      <td>2.610060</td>\n",
       "    </tr>\n",
       "    <tr>\n",
       "      <th rowspan=\"2\" valign=\"top\">B</th>\n",
       "      <th>app1</th>\n",
       "      <td>8925</td>\n",
       "      <td>2925</td>\n",
       "      <td>3.051282</td>\n",
       "    </tr>\n",
       "    <tr>\n",
       "      <th>app2</th>\n",
       "      <td>50370</td>\n",
       "      <td>19475</td>\n",
       "      <td>2.586393</td>\n",
       "    </tr>\n",
       "    <tr>\n",
       "      <th rowspan=\"2\" valign=\"top\">C</th>\n",
       "      <th>app1</th>\n",
       "      <td>42345</td>\n",
       "      <td>16845</td>\n",
       "      <td>2.513802</td>\n",
       "    </tr>\n",
       "    <tr>\n",
       "      <th>app2</th>\n",
       "      <td>173315</td>\n",
       "      <td>69950</td>\n",
       "      <td>2.477698</td>\n",
       "    </tr>\n",
       "    <tr>\n",
       "      <th rowspan=\"2\" valign=\"top\">D</th>\n",
       "      <th>app1</th>\n",
       "      <td>13105</td>\n",
       "      <td>4965</td>\n",
       "      <td>2.639476</td>\n",
       "    </tr>\n",
       "    <tr>\n",
       "      <th>app2</th>\n",
       "      <td>45835</td>\n",
       "      <td>15315</td>\n",
       "      <td>2.992817</td>\n",
       "    </tr>\n",
       "    <tr>\n",
       "      <th rowspan=\"2\" valign=\"top\">E</th>\n",
       "      <th>app1</th>\n",
       "      <td>5710</td>\n",
       "      <td>1740</td>\n",
       "      <td>3.281609</td>\n",
       "    </tr>\n",
       "    <tr>\n",
       "      <th>app2</th>\n",
       "      <td>28320</td>\n",
       "      <td>8305</td>\n",
       "      <td>3.409994</td>\n",
       "    </tr>\n",
       "    <tr>\n",
       "      <th rowspan=\"2\" valign=\"top\">F</th>\n",
       "      <th>app1</th>\n",
       "      <td>24765</td>\n",
       "      <td>6115</td>\n",
       "      <td>4.049877</td>\n",
       "    </tr>\n",
       "    <tr>\n",
       "      <th>app2</th>\n",
       "      <td>93460</td>\n",
       "      <td>24775</td>\n",
       "      <td>3.772351</td>\n",
       "    </tr>\n",
       "    <tr>\n",
       "      <th rowspan=\"2\" valign=\"top\">G</th>\n",
       "      <th>app1</th>\n",
       "      <td>5710</td>\n",
       "      <td>1375</td>\n",
       "      <td>4.152727</td>\n",
       "    </tr>\n",
       "    <tr>\n",
       "      <th>app2</th>\n",
       "      <td>18370</td>\n",
       "      <td>5090</td>\n",
       "      <td>3.609037</td>\n",
       "    </tr>\n",
       "  </tbody>\n",
       "</table>\n",
       "</div>"
      ],
      "text/plain": [
       "                              boxes_taken  app_uses  efficiency\n",
       "activation_channel app_store                                   \n",
       "A                  app1             22865      7855    2.910885\n",
       "                   app2             76540     29325    2.610060\n",
       "B                  app1              8925      2925    3.051282\n",
       "                   app2             50370     19475    2.586393\n",
       "C                  app1             42345     16845    2.513802\n",
       "                   app2            173315     69950    2.477698\n",
       "D                  app1             13105      4965    2.639476\n",
       "                   app2             45835     15315    2.992817\n",
       "E                  app1              5710      1740    3.281609\n",
       "                   app2             28320      8305    3.409994\n",
       "F                  app1             24765      6115    4.049877\n",
       "                   app2             93460     24775    3.772351\n",
       "G                  app1              5710      1375    4.152727\n",
       "                   app2             18370      5090    3.609037"
      ]
     },
     "execution_count": 29,
     "metadata": {},
     "output_type": "execute_result"
    }
   ],
   "source": [
    "# Group the dataset by channel and app store and using sum as aggregation\n",
    "ch_df = au_df.groupby(['activation_channel', 'app_store']).sum()[['boxes_taken', 'app_uses']]\n",
    "# Caclulate 'efficiency' for each channel, app store combination\n",
    "ch_df['efficiency'] = ch_df['boxes_taken']/ch_df['app_uses']\n",
    "ch_df"
   ]
  },
  {
   "cell_type": "code",
   "execution_count": 30,
   "metadata": {},
   "outputs": [
    {
     "data": {
      "image/png": "[encoded data removed]",
      "text/plain": [
       "<Figure size 432x288 with 1 Axes>"
      ]
     },
     "metadata": {
      "needs_background": "light"
     },
     "output_type": "display_data"
    }
   ],
   "source": [
    "ch_df['efficiency'].unstack().plot(kind='bar')\n",
    "plt.xlabel('Activation channel')\n",
    "plt.ylabel('Efficiency')\n",
    "plt.title('Efficiency Bar Chart')\n",
    "plt.show()"
   ]
  },
  {
   "cell_type": "markdown",
   "metadata": {},
   "source": [
    "Overall, we can see that Channel G, App1 is the most efficient channel in Australia which is abour 4.15 boxes per hour."
   ]
  },
  {
   "cell_type": "markdown",
   "metadata": {},
   "source": [
    "## Task 6 - Region Analysis\n",
    "\n",
    "To study which state has the longest total app hours and its total product count, we can use the groupby function in Pandas and use sum and mean as the aggregation function.\n",
    "\n",
    "Notes: I used the average app use hours per customer for each state to measure which region stats the longest with the company. The reason is that different states might be different in the population scale, and simply looking at the total number of app hours could be biased towards the states that are normally bigger."
   ]
  },
  {
   "cell_type": "code",
   "execution_count": 31,
   "metadata": {},
   "outputs": [
    {
     "data": {
      "text/html": [
       "<div>\n",
       "<style scoped>\n",
       "    .dataframe tbody tr th:only-of-type {\n",
       "        vertical-align: middle;\n",
       "    }\n",
       "\n",
       "    .dataframe tbody tr th {\n",
       "        vertical-align: top;\n",
       "    }\n",
       "\n",
       "    .dataframe thead th {\n",
       "        text-align: right;\n",
       "    }\n",
       "</style>\n",
       "<table border=\"1\" class=\"dataframe\">\n",
       "  <thead>\n",
       "    <tr style=\"text-align: right;\">\n",
       "      <th></th>\n",
       "      <th>state</th>\n",
       "      <th>boxes_taken_sum</th>\n",
       "      <th>app_uses_mean</th>\n",
       "      <th>app_uses_sum</th>\n",
       "      <th>customer_id_count</th>\n",
       "    </tr>\n",
       "  </thead>\n",
       "  <tbody>\n",
       "    <tr>\n",
       "      <th>4</th>\n",
       "      <td>TAS</td>\n",
       "      <td>37720</td>\n",
       "      <td>26.954023</td>\n",
       "      <td>14070</td>\n",
       "      <td>522</td>\n",
       "    </tr>\n",
       "    <tr>\n",
       "      <th>2</th>\n",
       "      <td>QLD</td>\n",
       "      <td>148055</td>\n",
       "      <td>26.239688</td>\n",
       "      <td>57255</td>\n",
       "      <td>2182</td>\n",
       "    </tr>\n",
       "    <tr>\n",
       "      <th>1</th>\n",
       "      <td>NT</td>\n",
       "      <td>17185</td>\n",
       "      <td>25.868545</td>\n",
       "      <td>5510</td>\n",
       "      <td>213</td>\n",
       "    </tr>\n",
       "    <tr>\n",
       "      <th>7</th>\n",
       "      <td>WA</td>\n",
       "      <td>86225</td>\n",
       "      <td>25.177026</td>\n",
       "      <td>32000</td>\n",
       "      <td>1271</td>\n",
       "    </tr>\n",
       "    <tr>\n",
       "      <th>5</th>\n",
       "      <td>To be investigated</td>\n",
       "      <td>535</td>\n",
       "      <td>25.000000</td>\n",
       "      <td>125</td>\n",
       "      <td>5</td>\n",
       "    </tr>\n",
       "    <tr>\n",
       "      <th>6</th>\n",
       "      <td>VIC</td>\n",
       "      <td>134250</td>\n",
       "      <td>24.616605</td>\n",
       "      <td>46550</td>\n",
       "      <td>1891</td>\n",
       "    </tr>\n",
       "    <tr>\n",
       "      <th>0</th>\n",
       "      <td>NSW</td>\n",
       "      <td>170970</td>\n",
       "      <td>24.372752</td>\n",
       "      <td>54205</td>\n",
       "      <td>2224</td>\n",
       "    </tr>\n",
       "    <tr>\n",
       "      <th>3</th>\n",
       "      <td>SA</td>\n",
       "      <td>14695</td>\n",
       "      <td>23.333333</td>\n",
       "      <td>4340</td>\n",
       "      <td>186</td>\n",
       "    </tr>\n",
       "  </tbody>\n",
       "</table>\n",
       "</div>"
      ],
      "text/plain": [
       "                state  boxes_taken_sum  app_uses_mean  app_uses_sum  \\\n",
       "4                 TAS            37720      26.954023         14070   \n",
       "2                 QLD           148055      26.239688         57255   \n",
       "1                  NT            17185      25.868545          5510   \n",
       "7                  WA            86225      25.177026         32000   \n",
       "5  To be investigated              535      25.000000           125   \n",
       "6                 VIC           134250      24.616605         46550   \n",
       "0                 NSW           170970      24.372752         54205   \n",
       "3                  SA            14695      23.333333          4340   \n",
       "\n",
       "   customer_id_count  \n",
       "4                522  \n",
       "2               2182  \n",
       "1                213  \n",
       "7               1271  \n",
       "5                  5  \n",
       "6               1891  \n",
       "0               2224  \n",
       "3                186  "
      ]
     },
     "execution_count": 31,
     "metadata": {},
     "output_type": "execute_result"
    }
   ],
   "source": [
    "# Groupby region\n",
    "cst_df = au_df.groupby('state').agg({'boxes_taken': np.sum, 'app_uses': [np.mean, np.sum], 'customer_id': 'count'})\n",
    "cst_df.columns = ['_'.join(i) for i in cst_df.columns]\n",
    "cst_df.reset_index(drop=False, inplace=True)\n",
    "cst_df.sort_values(by='app_uses_mean', ascending=False, inplace=True)\n",
    "cst_df"
   ]
  },
  {
   "cell_type": "code",
   "execution_count": 32,
   "metadata": {},
   "outputs": [
    {
     "data": {
      "image/png": "[encoded data removed]",
      "text/plain": [
       "<Figure size 432x288 with 1 Axes>"
      ]
     },
     "metadata": {
      "needs_background": "light"
     },
     "output_type": "display_data"
    }
   ],
   "source": [
    "sns.barplot(data=cst_df, x='state', y='app_uses_mean')\n",
    "plt.xlabel('State')\n",
    "plt.ylabel('Average time per customer')\n",
    "plt.title('Average Customer Life Time by States')\n",
    "plt.show()"
   ]
  },
  {
   "cell_type": "markdown",
   "metadata": {},
   "source": [
    "We can see that customers from state S tend stay the longest with the company. On average each customer spends approximately 27 hours on the app. In total, there have been a total number of 37,720 boxes sent to state L.\n",
    "\n",
    "However, state L has a very similar average app use hours compared to state S (only slightly smaller). On average, each customer spends 26 hours on the app. Nevertheless, the totoal app hours is 57,255 and the total amount of boxes shipped is 148,055. State L is relatively large in scale in both the customer base, total app hours and total boxes ordered.\n",
    "\n",
    "Overall, I would conclude that state L has a more significant business position to the company compare to S."
   ]
  },
  {
   "cell_type": "markdown",
   "metadata": {},
   "source": [
    "## Executive Summary\n",
    "\n"
   ]
  },
  {
   "cell_type": "markdown",
   "metadata": {},
   "source": [
    "In this analysis, our main object is to investigate the product puchase data from 8,489 customer and generate insights that are related to the product sales. The analysis reveals the following key insights which could be valuable to the business owner:\n",
    "\n",
    "    1. Product sales follow an exponential distribution with a heavy right tail, meaning most of the product sales are between 0 and 50 in volume with a few customers purchasing extremely large amount.\n",
    "    \n",
    "    2. App uses and score frequency could potentially be good indicators for product sales as they are negatively and positvely correlated to the product count.\n",
    "\n",
    "    3. Score count is basically uncorrelated with the product sales, indicating that there is no linear relationship between the two variables.\n",
    "    \n",
    "    4. Depends on the app that a customer use, the average product sales for app1 user groups is a statistically significantly smaller than the app2 user groups.\n",
    "    \n",
    "    5. Selling channel G using app version 1 has the highest efficiency comparing to the other 13 sell channels.\n",
    "    \n",
    "    6. Although State S has the highest average app use hours in number, State L plays a more important role to the buisness not only because it has the second highest average app use per customer, but aslo it is very large in the total numebr of customer, total number of products ordered and total number of app use hours."
   ]
  }
 ],
 "metadata": {
  "kernelspec": {
   "display_name": "Python 3",
   "language": "python",
   "name": "python3"
  },
  "language_info": {
   "codemirror_mode": {
    "name": "ipython",
    "version": 3
   },
   "file_extension": ".py",
   "mimetype": "text/x-python",
   "name": "python",
   "nbconvert_exporter": "python",
   "pygments_lexer": "ipython3",
   "version": "3.7.4"
  }
 },
 "nbformat": 4,
 "nbformat_minor": 4
}
